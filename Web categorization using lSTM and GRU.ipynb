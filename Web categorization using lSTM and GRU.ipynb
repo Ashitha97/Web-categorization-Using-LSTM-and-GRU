{
 "cells": [
  {
   "cell_type": "code",
   "execution_count": 1,
   "metadata": {},
   "outputs": [
    {
     "name": "stderr",
     "output_type": "stream",
     "text": [
      "[nltk_data] Downloading package stopwords to C:\\Users\\Ashitha A\n",
      "[nltk_data]     Nair\\AppData\\Roaming\\nltk_data...\n",
      "[nltk_data]   Package stopwords is already up-to-date!\n"
     ]
    },
    {
     "data": {
      "text/plain": [
       "True"
      ]
     },
     "execution_count": 1,
     "metadata": {},
     "output_type": "execute_result"
    }
   ],
   "source": [
    "import numpy as np\n",
    "import pandas as pd\n",
    "import nltk\n",
    "import re\n",
    "from nltk.corpus import stopwords\n",
    "nltk.download('stopwords')\n"
   ]
  },
  {
   "cell_type": "code",
   "execution_count": 2,
   "metadata": {},
   "outputs": [
    {
     "data": {
      "text/html": [
       "<div>\n",
       "<style scoped>\n",
       "    .dataframe tbody tr th:only-of-type {\n",
       "        vertical-align: middle;\n",
       "    }\n",
       "\n",
       "    .dataframe tbody tr th {\n",
       "        vertical-align: top;\n",
       "    }\n",
       "\n",
       "    .dataframe thead th {\n",
       "        text-align: right;\n",
       "    }\n",
       "</style>\n",
       "<table border=\"1\" class=\"dataframe\">\n",
       "  <thead>\n",
       "    <tr style=\"text-align: right;\">\n",
       "      <th></th>\n",
       "      <th>Webpage_id</th>\n",
       "      <th>Tag</th>\n",
       "      <th>text</th>\n",
       "    </tr>\n",
       "  </thead>\n",
       "  <tbody>\n",
       "    <tr>\n",
       "      <th>0</th>\n",
       "      <td>1</td>\n",
       "      <td>news</td>\n",
       "      <td>b'    Skip to main content                    ...</td>\n",
       "    </tr>\n",
       "    <tr>\n",
       "      <th>1</th>\n",
       "      <td>2</td>\n",
       "      <td>news</td>\n",
       "      <td>b'    Skip to main content                    ...</td>\n",
       "    </tr>\n",
       "    <tr>\n",
       "      <th>2</th>\n",
       "      <td>3</td>\n",
       "      <td>news</td>\n",
       "      <td>b'    Skip to main content                    ...</td>\n",
       "    </tr>\n",
       "    <tr>\n",
       "      <th>3</th>\n",
       "      <td>4</td>\n",
       "      <td>news</td>\n",
       "      <td>b\"    Skip to main content                    ...</td>\n",
       "    </tr>\n",
       "    <tr>\n",
       "      <th>4</th>\n",
       "      <td>5</td>\n",
       "      <td>news</td>\n",
       "      <td>b\"    Skip to main content                    ...</td>\n",
       "    </tr>\n",
       "    <tr>\n",
       "      <th>5</th>\n",
       "      <td>6</td>\n",
       "      <td>news</td>\n",
       "      <td>b\"    Skip to main content                    ...</td>\n",
       "    </tr>\n",
       "    <tr>\n",
       "      <th>6</th>\n",
       "      <td>7</td>\n",
       "      <td>news</td>\n",
       "      <td>b'    Skip to main content                    ...</td>\n",
       "    </tr>\n",
       "    <tr>\n",
       "      <th>7</th>\n",
       "      <td>8</td>\n",
       "      <td>news</td>\n",
       "      <td>b\"    Skip to main content                    ...</td>\n",
       "    </tr>\n",
       "    <tr>\n",
       "      <th>8</th>\n",
       "      <td>9</td>\n",
       "      <td>news</td>\n",
       "      <td>b\"    Skip to main content                    ...</td>\n",
       "    </tr>\n",
       "    <tr>\n",
       "      <th>9</th>\n",
       "      <td>10</td>\n",
       "      <td>news</td>\n",
       "      <td>b'    Skip to main content                    ...</td>\n",
       "    </tr>\n",
       "    <tr>\n",
       "      <th>10</th>\n",
       "      <td>11</td>\n",
       "      <td>news</td>\n",
       "      <td>b\"    Skip to main content                    ...</td>\n",
       "    </tr>\n",
       "    <tr>\n",
       "      <th>11</th>\n",
       "      <td>12</td>\n",
       "      <td>news</td>\n",
       "      <td>b\"    Skip to main content                    ...</td>\n",
       "    </tr>\n",
       "    <tr>\n",
       "      <th>12</th>\n",
       "      <td>13</td>\n",
       "      <td>news</td>\n",
       "      <td>b\"    Skip to main content                    ...</td>\n",
       "    </tr>\n",
       "    <tr>\n",
       "      <th>13</th>\n",
       "      <td>14</td>\n",
       "      <td>news</td>\n",
       "      <td>b\"    Skip to main content                    ...</td>\n",
       "    </tr>\n",
       "    <tr>\n",
       "      <th>14</th>\n",
       "      <td>15</td>\n",
       "      <td>news</td>\n",
       "      <td>b\"    Skip to main content                    ...</td>\n",
       "    </tr>\n",
       "  </tbody>\n",
       "</table>\n",
       "</div>"
      ],
      "text/plain": [
       "    Webpage_id   Tag                                               text\n",
       "0            1  news  b'    Skip to main content                    ...\n",
       "1            2  news  b'    Skip to main content                    ...\n",
       "2            3  news  b'    Skip to main content                    ...\n",
       "3            4  news  b\"    Skip to main content                    ...\n",
       "4            5  news  b\"    Skip to main content                    ...\n",
       "5            6  news  b\"    Skip to main content                    ...\n",
       "6            7  news  b'    Skip to main content                    ...\n",
       "7            8  news  b\"    Skip to main content                    ...\n",
       "8            9  news  b\"    Skip to main content                    ...\n",
       "9           10  news  b'    Skip to main content                    ...\n",
       "10          11  news  b\"    Skip to main content                    ...\n",
       "11          12  news  b\"    Skip to main content                    ...\n",
       "12          13  news  b\"    Skip to main content                    ...\n",
       "13          14  news  b\"    Skip to main content                    ...\n",
       "14          15  news  b\"    Skip to main content                    ..."
      ]
     },
     "execution_count": 2,
     "metadata": {},
     "output_type": "execute_result"
    }
   ],
   "source": [
    "web_train=pd.read_csv('web_categ_final.csv')\n",
    "web_train.head(15)"
   ]
  },
  {
   "cell_type": "code",
   "execution_count": 3,
   "metadata": {},
   "outputs": [
    {
     "data": {
      "text/plain": [
       "others            17417\n",
       "news               7992\n",
       "publication        7705\n",
       "profile            5196\n",
       "conferences        4666\n",
       "forum              4503\n",
       "clinicalTrials     2839\n",
       "thesis             1800\n",
       "guidelines         1329\n",
       "Name: Tag, dtype: int64"
      ]
     },
     "execution_count": 3,
     "metadata": {},
     "output_type": "execute_result"
    }
   ],
   "source": [
    "web_train['Tag'].value_counts()"
   ]
  },
  {
   "cell_type": "markdown",
   "metadata": {},
   "source": [
    "## Preprocessing\n",
    "- you can see it has many noise in it, we have to clean this\n"
   ]
  },
  {
   "cell_type": "code",
   "execution_count": 4,
   "metadata": {},
   "outputs": [
    {
     "name": "stdout",
     "output_type": "stream",
     "text": [
      "\n",
      "\n",
      " b'    Skip to main content                                    Twitter  LinkedIn      Search           Top Menu    DDF 2017    FierceBiotech    Jobs    Resources    Events    Subscribe                  Main navigation    Pharma    M&A    Regulatory    Financials    Corporate    Legal      Manufacturing    M&A    Outsourcing    Regulatory    Supply Chain    Partnering    Drug Safety      Marketing    Regulatory    DTC Advertising    Digital and Social Media    Data and Analytics    Launches      Pharma Asia    M&A    R&D    Regulatory    Sales and Marketing    Financials    Manufacturing      Animal Health    R&D    M&A    Regulatory    Veterinarian    Financials    Vaccines      Drug Delivery    R&D    Regulatory    Partnering      Vaccines    Deals    Infectious Diseases    R&D    Regulatory        Main navigation - Mobile    Pharma    M&A    Regulatory    Financials    Corporate    Legal      Manufacturing    M&A    Outsourcing    Regulatory    Supply Chain    Partnering    Drug Safety      Marketing    Regulatory    DTC Advertising    Digital and Social Media    Data and Analytics    Launches      Pharma Asia    M&A    R&D    Regulatory    Sales and Marketing    Financials    Manufacturing      Animal Health    R&D    M&A    Regulatory    Veterinarian    Financials    Vaccines      Drug Delivery    R&D    Regulatory    Partnering      Vaccines    Deals    Infectious Diseases    R&D    Regulatory                    Marketing          Tecfidera, Gilenya and Aubagio\\'s 3-way battle for MS share is about to heat up         by Tracy Staton | Oct 31, 2016 6:54am                        Multiple sclerosis drugmakers are in a fix: These days, the U.S. market isn\\xe2\\x80\\x99t delivering the kind of growth that had been fueling big increases in sales.  For high-flying pills from Biogen (Tecfidera) and Novartis (Gilenya), that could mean an unwelcome comedown. It definitely means\\xc2\\xa0 the coming market-share battle will grow even more competitive than before. If the quickest way to grow sales is to steal share, you can bet Tecfidera and Gilenya--and their up-and-coming rival med from Sanofi, Aubagio--will be working hard to do just that.  Thing is, Biogen isn\\xe2\\x80\\x99t on that sort of growth trajectory. It\\xe2\\x80\\x99s the market leader--with 51% share of the oral market and 20% of MS overall, as EVP Michel Vounatsos hastened to point out during the company\\xe2\\x80\\x99s earnings call with analysts last week. But Tecfidera\\xe2\\x80\\x99s 10% growth during the quarter largely depended on price increases , the company disclosed in a securities filing the next day.  Gilenya, on the other hand, grew by 15%, and in its earnings announcement , the Swiss drugmaker said that growth wasn\\xe2\\x80\\x99t based on price, but volume. That\\xe2\\x80\\x99s not to say Gilenya doesn\\xe2\\x80\\x99t have some troubling signs in its Q3 stats; pharma chief Paul Hudson said script numbers have been \\xe2\\x80\\x9cbroadly flat but a little bit down\\xe2\\x80\\x9d--which suggests the overall market slowdown hasn\\xe2\\x80\\x99t been without its effect on Gilenya, too.  Neither Biogen nor Novartis plans to stick with the status quo. Biogen is grappling with Tecfidera\\xe2\\x80\\x99s gastrointestinal side effects, and various MS specialists are working on ways to manage that; 22% of Tecfidera patients quit because of GI issues, and keeping patients on therapy would obviously help sales.  The Tecfidera team is pilot-testing a new \\xe2\\x80\\x9cengagement model\\xe2\\x80\\x9d at top treatment centers, with plans to roll it out by January. \\xe2\\x80\\x9cThe team in the U.S. is all up and running,\\xe2\\x80\\x9d Vounatsos said during the call. \\xe2\\x80\\x9cI\\xe2\\x80\\x99m very pleased to see the perception improvement, and now we have to continue to execute.\\xe2\\x80\\x9d  On the advertising side, Biogen recently backed off a TV campaign that had stirred up some controversy in the MS community, and the company said at the time that it didn\\xe2\\x80\\x99t plan more television in the immediate future, though it is running other DTC promos.  Novartis is running with its Hey MS, Take This! campaign for Gilenya, which launched in 2014 and has since won kudos--and made inroads--particularly with its digital and social media work. Besides print and web video, the campaign invites patients to \\xe2\\x80\\x9ctell relapsing MS exactly where to go,\\xe2\\x80\\x9d and many have, both on the campaign\\xe2\\x80\\x99s website and via social media. They\\xe2\\x80\\x99ve also shared what they do to manage their MS.       Novartis apparently believes that Gilenya DTC and salesforce work, coupled with a steady stream of new data, will keep the brand\\xe2\\x80\\x99s volume growing enough to avoid using price as a driver. The company has \\xe2\\x80\\x9csome sensible plans\\xe2\\x80\\x9d for growth, without \\xe2\\x80\\x9ca big impact ... on price,\\xe2\\x80\\x9d Hudson said during the Q3 call. \\xe2\\x80\\x9cWe are ...\\xc2\\xa0 looking forward to the energy into Q4,\\xe2\\x80\\x9d he said.  Meanwhile, the big leaper of the quarter was Aubagio, Sanofi\\xe2\\x80\\x99s slow-to-start entry in the class. Sales of that drug grew by almost 50% to 334 million euros during the quarter--and that was driven by growth in the U.S. Its 9-month revenue amounted to 928 million euros, a 57% hike. The French drugmaker quickly bragged that Aubagio is the \\xe2\\x80\\x9cfastest-growing oral disease modifying therapy\\xe2\\x80\\x9d in MS, with a U.S. share of 9%--far far below Tecfidera\\xe2\\x80\\x99s, but rising. This time last year, Sanofi was happy to report it had captured a 6% share.  What\\xe2\\x80\\x99s spurring Aubagio on? The company has been running a campaign with Revenge star Madeleine Stowe since late 2014, for one; the actor has been traveling across the U.S. doing awareness events. The Lights! Camera! Take Action! partnership most recently rolled out a series of \\xe2\\x80\\x9cwebisodes\\xe2\\x80\\x9d featuring Stowe in interviews with MS patients--a common theme in awareness campaigns--but also with nurses, physical therapists and others with advice for MS patients and their caregivers.       The drug\\'s brand website also has a share-your-story channel, and Sanofi has put other promo work under a tagline, \"Aubagio quiets MS.\" The company\\xc2\\xa0has set out a goal of \\xe2\\x82\\xac2 billion in sales by 2020 for its entire franchise; if Aubagio and its fellow med Lemtrada keep delivering as they are, the company could actually hit that target sooner. \"In MS, we continued to gain share, and sales from the franchise are now approaching \\xe2\\x82\\xac2 billion on an annualized basis,\" CEO Olivier Brandicourt said during the company\\'s Q3 call.  Biogen\\xe2\\x80\\x99s Vounatsos may have summed it up for the entire oral market when he pledged to fight the good fight on Tecfidera last week. \\xe2\\x80\\x9cThe base of the market is certainly lower than what we have estimated in our assumptions, but it\\'s not an excuse for not increasing share,\\xe2\\x80\\x9d he said.  There\\xe2\\x80\\x99s a confounding factor, however: The group of oral treatments may get some unwanted rivals in a few years. Novartis could face earlier-than-expected Gilenya generics, thanks to some recent patent decisions. As early as 2019, in fact--and that would give these three meds just a few more years to divvy up share just among themselves. Add to that the payer pressure that\\'s increasingly a problem, and the price-increase growth option looks even less likely.  Related Articles: Biogen\\xe2\\x80\\x99s Tecfidera, Amgen\\xe2\\x80\\x99s Enbrel tell a tale of pricing power and weakness Novartis could snag a blockbuster MS market all for itself, just in time to fight Gilenya generics Biogen\\'s controversial Tecfidera ad is about to meet its end Biogen sees new Tecfidera buzz as DTC, marketing push kicks in Buoyed by rising tide of Aubagio scripts, Sanofi aims for \\xe2\\x82\\xac2B in MS sales Early Gilenya generics now spell trouble for rival MS drugs    Read more on   multiple sclerosis , drug launch , generics , payer , Sanofi , Aubagio , Tecfidera , Biogen , Novartis , Gilenya                                           Popular Content   Pfizer puts hemophilia spin on ultrapopular Minecraft to educate young patients Sep 06, 2017  Takeda, Johnson & Johnson and more join Clara Health\\'s Boston-based patient empowerment push Sep 06, 2017  Empathy at work: GlaxoSmithKline extends Excedrin Migraine campaign to include sufferers on the job Sep 04, 2017  What\\'s the world\\'s best pharma market? To Allergan\\'s CEO, that one\\'s easy Aug 07, 2017  Roche nets new Actemra nod to treat deadly CAR-T response Sep 01, 2017     About the Author        Tracy Staton  Editor-in-Chief  tracy@fiercemarkets.com  https://twitter.com/TracyStaton                                  \\xe2\\x80\\x8b   Home  Subscribe  Manage Newsletter Subscriptions  Advertise  RSS  Privacy  About Us  Contact    \\xc2\\xa9 2017 Questex LLC. All rights reserved.  275 Grove Street, Suite 2-130 Newton, MA 02466  Reproduction in whole or part is prohibited.                        '\n",
      "\n",
      "\n",
      " b'    Skip to main content                                    Twitter  LinkedIn      Search           Top Menu    DDF 2017    FierceBiotech    Jobs    Resources    Events    Subscribe                  Main navigation    Pharma    M&A    Regulatory    Financials    Corporate    Legal      Manufacturing    M&A    Outsourcing    Regulatory    Supply Chain    Partnering    Drug Safety      Marketing    Regulatory    DTC Advertising    Digital and Social Media    Data and Analytics    Launches      Pharma Asia    M&A    R&D    Regulatory    Sales and Marketing    Financials    Manufacturing      Animal Health    R&D    M&A    Regulatory    Veterinarian    Financials    Vaccines      Drug Delivery    R&D    Regulatory    Partnering      Vaccines    Deals    Infectious Diseases    R&D    Regulatory        Main navigation - Mobile    Pharma    M&A    Regulatory    Financials    Corporate    Legal      Manufacturing    M&A    Outsourcing    Regulatory    Supply Chain    Partnering    Drug Safety      Marketing    Regulatory    DTC Advertising    Digital and Social Media    Data and Analytics    Launches      Pharma Asia    M&A    R&D    Regulatory    Sales and Marketing    Financials    Manufacturing      Animal Health    R&D    M&A    Regulatory    Veterinarian    Financials    Vaccines      Drug Delivery    R&D    Regulatory    Partnering      Vaccines    Deals    Infectious Diseases    R&D    Regulatory                    Pharma          Novo equipped to weather the storm in the U.S. diabetes market, CEO says         by Eric Palmer | Oct 28, 2016 10:02am                        Novo Nordisk is facing a future of price decreases and pressured profits in the U.S., but the organization is equipped\\xc2\\xa0to thrive in such a hostile pricing environment, CEO Lars S\\xc3\\xb8rensen insists. It will do that by calling on its experiences jousting with price regulators\\xc2\\xa0in Europe.  \\xe2\\x80\\x9cWe have been used to operating in such an environment in the EU, and in Japan,\\xe2\\x80\\x9d S\\xc3\\xb8rensen insisted today, pointing to two markets that for years have been tight-fisted in reimbursements while the U.S. was a haven of growth.  The answer came in response to a question posed point-blank to execs today during a call with analysts, as they reported that Novo\\'s ($NOVO)\\xc2\\xa0operating profit fell 1% in Q3 2016 and for the year is now expected to be half of what the company had projected 8 months ago, 5% instead of 10%. That news whacked share prices 15% in early trading. An analyst wanted to know if the Danish company required a different structure and different people to make money in a tough market. S\\xc3\\xb8rensen said that it did, insisting its commitment to the U.S. market was steadfast.  But S\\xc3\\xb8rensen will not have to fight the battles there any longer. He is stepping down at year-end and is being replaced by Lars Fruergaard Jorgensen , who\\'s currently the company\\'s EVP and head of corporate development.  Jorgensen acknowledged that the U.S. market will be extremely tough in the near term, but growth in China and other parts of the world will help compensate until the U.S. market starts to turn\\xc2\\xa0around in 2018, he said.  \\xe2\\x80\\x9cWhen we look across the world, the change in the operating environment is mainly in U.S. \\xe2\\x80\\xa6 We have to acknowledge we are not fully satisfied with the U.S. operations,\\xe2\\x80\\x9d Jorgensen said. But the company has the right portfolio for a turnaround there and with \\xe2\\x80\\x9ca restructuring in the U.S. operations, we will get a grip,\\xe2\\x80\\x9d Jorgensen insisted.  That restructuring was announced in September, with 1,000 people worldwide being let go due to cut costs. Cuts will also come in R&D, although R&D spending will remain at about 13%, as the Danish drugmaker focuses on more innovative products that payers will cover. The job cuts will also hit the headquarters in Bagsvaerd, near Copenhagen, as well as the company\\xe2\\x80\\x99s commercial operations worldwide.  There were some bright spots in today\\xe2\\x80\\x99s report. Tresiba, the company\\xe2\\x80\\x99s new longer-acting product, grew 187% and sales of its GLP-1 drug, Victoza, were up 13%. There is also Saxenda, Novo\\xe2\\x80\\x99s entry in the weight-control market. In fact, Bernstein analyst Ronny Gal told investors today that\\xc2\\xa0Saxenda accounted for 16% of growth in the first 9 months and that it will be an \\xe2\\x80\\x9cincreasingly important product\\xe2\\x80\\x9d going forward.  Like Novo, Gal told his clients that he expects strong growth going forward for\\xc2\\xa0GLP-1 meds, a market Novo shares with competitors. Novo and Sanofi are both developing new weekly combo meds in that category, although both have had consideration of their drugs delayed by the FDA.  He says it is reasonable to assume such growth\\xc2\\xa0but points out\\xc2\\xa0that Novo was not considering the \"worst case scenario.\\xe2\\x80\\x9d While Novo execs said they did not expect payers to go to a \\xe2\\x80\\x9csingle source market\\xe2\\x80\\x9d for GLP-1 drugs to extract deeper discounts, Gal does not rule it out. \\xe2\\x80\\x9cIf there is another cut to expectations this is likely where it comes from,\\xe2\\x80\\x9d he told investors, suggesting that a really rocky midterm market for Novo could still get rockier.  - here\\xe2\\x80\\x99s the earnings release  Related Articles: U.S. payer pressures force Novo Nordisk to cut loose 1,000 staffers Novo Nordisk CEO Sorensen to step down early as pricing pressures mount Novo Nordisk stokes GLP-1 hopes as weekly semaglutide slashes heart risks by 26% Express Scripts bars new launches from Lilly, Merck and shuts out Novo for 2017 Sanofi\\'s Adlyxin holds a slight safety edge over Novo\\'s Victoza, report finds That head start for Novo\\'s combo med Xultophy? The FDA delayed it instead    Read more on   financials , Novo Nordisk                                           Popular Content   Teva lures Lundbeck chief Schultz with $52M package that makes him among pharma\\'s top paid Sep 12, 2017  Alexion plots hundreds of layoffs, HQ move in sweeping corporate revamp Sep 12, 2017  FDA says Tecentriq won\\'t lose its bladder cancer nod despite phase 3 failure, Roche reports Sep 12, 2017  ESMO need-to-know: Keytruda misses head and neck; Tagrisso wins; plus Lilly, BMS and more Sep 11, 2017  Teva makes good on asset-sale vows with $1.1B contraceptive sale Sep 11, 2017     About the Author        Eric Palmer  Senior Editor  epalmer@fiercemarkets.com                                   \\xe2\\x80\\x8b   Home  Subscribe  Manage Newsletter Subscriptions  Advertise  RSS  Privacy  About Us  Contact    \\xc2\\xa9 2017 Questex LLC. All rights reserved.  275 Grove Street, Suite 2-130 Newton, MA 02466  Reproduction in whole or part is prohibited.                        '\n",
      "\n",
      "\n",
      " b'    Skip to main content                                    Twitter  LinkedIn      Search           Top Menu    DDF 2017    FierceBiotech    Jobs    Resources    Events    Subscribe                  Main navigation    Pharma    M&A    Regulatory    Financials    Corporate    Legal      Manufacturing    M&A    Outsourcing    Regulatory    Supply Chain    Partnering    Drug Safety      Marketing    Regulatory    DTC Advertising    Digital and Social Media    Data and Analytics    Launches      Pharma Asia    M&A    R&D    Regulatory    Sales and Marketing    Financials    Manufacturing      Animal Health    R&D    M&A    Regulatory    Veterinarian    Financials    Vaccines      Drug Delivery    R&D    Regulatory    Partnering      Vaccines    Deals    Infectious Diseases    R&D    Regulatory        Main navigation - Mobile    Pharma    M&A    Regulatory    Financials    Corporate    Legal      Manufacturing    M&A    Outsourcing    Regulatory    Supply Chain    Partnering    Drug Safety      Marketing    Regulatory    DTC Advertising    Digital and Social Media    Data and Analytics    Launches      Pharma Asia    M&A    R&D    Regulatory    Sales and Marketing    Financials    Manufacturing      Animal Health    R&D    M&A    Regulatory    Veterinarian    Financials    Vaccines      Drug Delivery    R&D    Regulatory    Partnering      Vaccines    Deals    Infectious Diseases    R&D    Regulatory                    Pharma          Another exec departs troubled Endo--and this time, it\\'s for another drugmaker         by Carly Helfand | Oct 21, 2016 7:05am                        Endo\\xe2\\x80\\x99s ( $ENDP ) CEO exodus is continuing. Its CFO is following its CEO out the door--to work for another drugmaker, no less.  Thursday, the Dublin company announced that financial chief, Suketu Upadhyay, would be hitting the road to \\xe2\\x80\\x9cassume a senior-level finance position at a global biopharmaceutical company.\\xe2\\x80\\x9d Blaise Coleman, Endo\\'s SVP of Global Finance Operations, will step up in his stead while Endo searches for a permanent replacement.  It\\xe2\\x80\\x99s been a rocky financial year for Endo, which--much like Valeant ( $VRX ), a company whose footsteps it\\xe2\\x80\\x99s seemingly been following in for years--slashed its Q2 guidance earlier this year,\\xc2\\xa0and the 40% share-price decline that ensued locked up the stock\\xe2\\x80\\x99s second-worse daily performance ever. It also cut 740 jobs.\\xc2\\xa0The company blamed new rivals on the market, greater-than-expected generics price erosion, regulatory delays and more for a revised revenue forecast that hit well below analyst expectations.  But new Endo skipper Paul Campanelli--the former Par chief who relieved Endo\\xe2\\x80\\x99s Rajiv De Silva late last month--was quick to point out that the company recently reaffirmed its third-quarter and full-year predictions, an attempt to reassure investors that more bad news wasn\\xe2\\x80\\x99t on the way.  What may be on the way for the troubled drugmaker, though? Divestments. Late in June, Reuters reported that Endo--like Valeant--was looking for asset sales that could help pay down its acquisition-fueled debt mountain.\\xc2\\xa0 And Thursday, Campanelli noted that the specialty pharma would \\xe2\\x80\\x9ccomplete a product-by-product assessment of our portfolio and further sharpen Endo\\'s strategy and operational focus.\"  And analysts are already talking up potential takers. Earlier this week, RBC Capital Markets\\xe2\\x80\\x99 Randall Stanicky wrote in a note to investors that Endo\\xe2\\x80\\x99s pain business could make a good buy for California\\xe2\\x80\\x99s Depomed ( $DEPO ), which may scout\\xc2\\xa0for M&A now that it\\xe2\\x80\\x99s settled a proxy dispute with activist investor Starboard Value.  - read Endo\\'s release  Special Report:  The most influential people in biopharma today - 2014 - J. Michael Pearson - Valeant  Related Articles: Depomed strikes unexpected deal with activist Starboard, adding J&J, Abbott vets to board It\\'s out with the old CEO, in with the new as Endo\\'s Campanelli takes De Silva\\'s seat Endo keeps up its Valeant act with asset-sale talks Endo\\'s Valeant-esque guidance-slashing decimates shares Valeant investors, shocked by lightweight guidance, aren\\'t buying CEO Pearson\\'s recovery plans Endo scoops up Par Pharma for $8B to gain ground in injectables Is Endo on the verge of a Valeant-type acquisition binge?    Read more on   Endo                                           Popular Content   Lilly to cut 3,500 jobs, take a $1.2B hit as it aims for $500M in savings Sep 07, 2017  After Keytruda deaths, FDA hits pause on Bristol-Myers Squibb\\'s Opdivo myeloma trials Sep 07, 2017  Survival win has Bristol-Myers\\' Opdivo-Yervoy combo looking better as first-line kidney cancer treatment Sep 07, 2017  Novo to pay nearly $60M to settle Victoza marketing suits with DOJ, whistleblowers Sep 06, 2017  Senator\\xe2\\x80\\x99s report documents deceit by former employees of embattled Insys Sep 07, 2017     About the Author        Carly Helfand  Senior Editor  chelfand@fiercemarkets.com                                   \\xe2\\x80\\x8b   Home  Subscribe  Manage Newsletter Subscriptions  Advertise  RSS  Privacy  About Us  Contact    \\xc2\\xa9 2017 Questex LLC. All rights reserved.  275 Grove Street, Suite 2-130 Newton, MA 02466  Reproduction in whole or part is prohibited.                        '\n",
      "\n",
      "\n",
      " b\"    Skip to main content                                    Twitter  LinkedIn      Search           Top Menu    DDF 2017    FierceBiotech    Jobs    Resources    Events    Subscribe                  Main navigation    Pharma    M&A    Regulatory    Financials    Corporate    Legal      Manufacturing    M&A    Outsourcing    Regulatory    Supply Chain    Partnering    Drug Safety      Marketing    Regulatory    DTC Advertising    Digital and Social Media    Data and Analytics    Launches      Pharma Asia    M&A    R&D    Regulatory    Sales and Marketing    Financials    Manufacturing      Animal Health    R&D    M&A    Regulatory    Veterinarian    Financials    Vaccines      Drug Delivery    R&D    Regulatory    Partnering      Vaccines    Deals    Infectious Diseases    R&D    Regulatory        Main navigation - Mobile    Pharma    M&A    Regulatory    Financials    Corporate    Legal      Manufacturing    M&A    Outsourcing    Regulatory    Supply Chain    Partnering    Drug Safety      Marketing    Regulatory    DTC Advertising    Digital and Social Media    Data and Analytics    Launches      Pharma Asia    M&A    R&D    Regulatory    Sales and Marketing    Financials    Manufacturing      Animal Health    R&D    M&A    Regulatory    Veterinarian    Financials    Vaccines      Drug Delivery    R&D    Regulatory    Partnering      Vaccines    Deals    Infectious Diseases    R&D    Regulatory                    Pharma          Would Teva buy Korea's Celltrion to beef up in biosimilars? It wouldn't say no         by Carly Helfand | Oct 17, 2016 5:56am                        Earlier this month, Teva agreed to pick up U.S. and Canadian rights to a pair of biosims from Korea\\xe2\\x80\\x99s Celltrion. But it might not stop with just two.  The generics giant may\\xc2\\xa0consider purchasing the Korean drugmaker itself, a Teva spokesman told Korean news source The Investor .  \\xe2\\x80\\x9cWe will continue to investigate such opportunities as we balance risk and seek complementary skills in our partners,\\xe2\\x80\\x9d he said.  It\\xe2\\x80\\x99s not the first time the idea has come up. Back in early 2014, when Celltrion was planning to sell a controlling stake in the company, Teva\\xe2\\x80\\x99s name popped up in deal rumors--along with those of peers AstraZeneca and Roche.  Why all the interest? Celltrion\\xe2\\x80\\x99s biosim plans are beginning to come to fruition. Along with partner Pfizer, it\\xc2\\xa0already boasts an FDA-approved copy of Johnson & Johnson blockbuster Remicade waiting for the green light to launch in the U.S.  And there\\xe2\\x80\\x99s more where that came from. It\\xe2\\x80\\x99s working on versions\\xc2\\xa0of Roche oncology giants Rituxan and Herceptin, too--and it granted Teva North American rights to those biosims in a $160 million pact sealed in early October.  Teva CEO Erez Vigodman in particular has highlighted biosimilars as a key component of the Israeli drugmaker's\\xc2\\xa0strategy. But the company has already struck out once in the field: In 2013, one-time biosim partner Lonza backed out of the pair\\xe2\\x80\\x99s 2009 agreement after development and marketing costs piled up.  Meanwhile, Vigodman has also been talking up branded buys since Teva wrapped up its\\xc2\\xa0$40 billion Allergan generics\\xc2\\xa0buyout. Teva will be looking out for \\xe2\\x80\\x9cattractive specialty assets, or branded drug assets or pipeline assets\\xe2\\x80\\x9d that fit in with the therapeutic areas it\\xe2\\x80\\x99s already tackling, including pain, neurodegenerative disease and respiratory disorders, Vigodman said in August.  Related Articles: Teva ponies up $160M-plus for marketing rights to Celltrion's Rituxan, Herceptin biosims Teva shares rival Mylan's pain as both hit two-year lows How can Teva buck industry trends for 5% yearly generics growth? Launches--and lots of them Can Celltrion's Remicade biosim repeat its EU market-share steal in the U.S.? Roche, Teva and AstraZeneca are all said to be in the mix to buy Celltrion Teva, Lonza end biosimilars joint venture as the copycat crowd thins    Read more on   M&A , Teva Pharmaceutical , Celltrion , Rituxan , Remicade , Roche , Pfizer                                           Popular Content   Lilly to cut 3,500 jobs, take a $1.2B hit as it aims for $500M in savings Sep 07, 2017  After Keytruda deaths, FDA hits pause on Bristol-Myers Squibb's Opdivo myeloma trials Sep 07, 2017  Survival win has Bristol-Myers' Opdivo-Yervoy combo looking better as first-line kidney cancer treatment Sep 07, 2017  Novo to pay nearly $60M to settle Victoza marketing suits with DOJ, whistleblowers Sep 06, 2017  Senator\\xe2\\x80\\x99s report documents deceit by former employees of embattled Insys Sep 07, 2017     About the Author        Carly Helfand  Senior Editor  chelfand@fiercemarkets.com                                   \\xe2\\x80\\x8b   Home  Subscribe  Manage Newsletter Subscriptions  Advertise  RSS  Privacy  About Us  Contact    \\xc2\\xa9 2017 Questex LLC. All rights reserved.  275 Grove Street, Suite 2-130 Newton, MA 02466  Reproduction in whole or part is prohibited.                        \"\n",
      "\n",
      "\n",
      " b\"    Skip to main content                                    Twitter  LinkedIn      Search           Top Menu    DDF 2017    FierceBiotech    Jobs    Resources    Events    Subscribe                  Main navigation    Pharma    M&A    Regulatory    Financials    Corporate    Legal      Manufacturing    M&A    Outsourcing    Regulatory    Supply Chain    Partnering    Drug Safety      Marketing    Regulatory    DTC Advertising    Digital and Social Media    Data and Analytics    Launches      Pharma Asia    M&A    R&D    Regulatory    Sales and Marketing    Financials    Manufacturing      Animal Health    R&D    M&A    Regulatory    Veterinarian    Financials    Vaccines      Drug Delivery    R&D    Regulatory    Partnering      Vaccines    Deals    Infectious Diseases    R&D    Regulatory        Main navigation - Mobile    Pharma    M&A    Regulatory    Financials    Corporate    Legal      Manufacturing    M&A    Outsourcing    Regulatory    Supply Chain    Partnering    Drug Safety      Marketing    Regulatory    DTC Advertising    Digital and Social Media    Data and Analytics    Launches      Pharma Asia    M&A    R&D    Regulatory    Sales and Marketing    Financials    Manufacturing      Animal Health    R&D    M&A    Regulatory    Veterinarian    Financials    Vaccines      Drug Delivery    R&D    Regulatory    Partnering      Vaccines    Deals    Infectious Diseases    R&D    Regulatory                    Marketing          Restasis-maker Allergan recruits actress Marisa Tomei to drive dry eye awareness         by Beth Snyder Bulik | Oct 17, 2016 8:18am                        Is there an Oscar for best dry eye awareness performance in pharma? Actress\\xc2\\xa0Marisa Tomei is speaking up about the disease\\xc2\\xa0as Allergan's spokesperson\\xc2\\xa0for its branded Restasis marketing, while\\xc2\\xa0Shire has tapped\\xc2\\xa0actress Jennifer Aniston to front its disease awareness TV campaign.\\xc2\\xa0Tomei signed on as\\xc2\\xa0an ambassador for Restasis in July,\\xc2\\xa0talking to news and TV media outlets about her own experience with the disease, and Aniston joined Shire's unbranded effort in August.  Tomei\\xc2\\xa0also teamed up with Guide Dogs for the Blind and will contribute $1 for every person who takes the Restasis\\xc2\\xa0dry eye quiz on its website through the end of the year. So far, more than 40,000 people have done so. Traffic to the Restasis website has also increased by 50% since the campaign began, Herm Cukier, senior vice president for U.S. eye care at Allergan, told FiercePharma .  Restasis is the market share leader in dry eye prescription treatments, launched first in 2003. But it recently got its first category competition with\\xc2\\xa0Shire\\xe2\\x80\\x99s launch of Xiidra. To promote the newer drug, Shire is running two ad campaigns, the unbranded dry eye disease awareness campaign featuring Aniston, and another branded Xiidra campaign that began in September.  While the two compete in the dry eye treatment market, they have different indications.\\xc2\\xa0Xiidra is approved for dry eye disease, while Restasis\\xe2\\x80\\x99 indication is for increasing tear production. A Bernstein analyst noted recently that while Shire has the full dry eye label advantage, Allergan \\xe2\\x80\\x9cenjoys the power of incumbency,\\xe2\\x80\\x9d including contracts, sales and an established patient pool.  Cukier said that even after Restasis\\xe2\\x80\\x99 years on the market, awareness about dry eye is still needed for several reasons:\\xc2\\xa0It\\xe2\\x80\\x99s not an obvious condition with symptoms that can often also be attributed to other causes; modern lifestyles that include increased screen time can exacerbate the condition; and increasing innovation in the category will open up different options for different types of dry eye conditions.  He noted Allergan\\xe2\\x80\\x99s own pipeline of treatments, which includes a recent filing for \\xe2\\x80\\x9cthe first neuro-stimulator, which will allow patients to create their own tears.\\xe2\\x80\\x9d  \\xe2\\x80\\x9cIn the future, we\\xe2\\x80\\x99re going to see a lot more awareness as more and more innovation comes to the market,\\xe2\\x80\\x9d Cukier said. \\xe2\\x80\\x9cAnd also as clinicians more proactively engage with patients because they have more treatment options.\\xe2\\x80\\x9d  - read Allergan's news   Related Articles: Shire snags eye-drop 'addicted' Jennifer Aniston as new dry eye spokeswoman Shire targets Allergan's dry-eye market share by pricing Xiidra at $5K per year--right on par with Restasis The 'i's have it in new ad campaign for Shire\\xe2\\x80\\x99s dry eye treatment Xiidra Shire's new dry-eye approval means it's time for an Allergan showdown Allergan files with FDA for dry eye device acquired in Oculeve purchase      Read more on   dry eye , celebrity spokespeople , Allergan                                           Popular Content   Pfizer puts hemophilia spin on ultrapopular Minecraft to educate young patients Sep 06, 2017  Takeda, Johnson & Johnson and more join Clara Health's Boston-based patient empowerment push Sep 06, 2017  Empathy at work: GlaxoSmithKline extends Excedrin Migraine campaign to include sufferers on the job Sep 04, 2017  Roche nets new Actemra nod to treat deadly CAR-T response Sep 01, 2017  What's the world's best pharma market? To Allergan's CEO, that one's easy Aug 07, 2017     About the Author     Beth Snyder Bulik   beth.bulik@comcast.net                                   \\xe2\\x80\\x8b   Home  Subscribe  Manage Newsletter Subscriptions  Advertise  RSS  Privacy  About Us  Contact    \\xc2\\xa9 2017 Questex LLC. All rights reserved.  275 Grove Street, Suite 2-130 Newton, MA 02466  Reproduction in whole or part is prohibited.                        \"\n",
      "\n",
      "\n",
      " b\"    Skip to main content                                    Twitter  LinkedIn      Search           Top Menu    DDF 2017    FierceBiotech    Jobs    Resources    Events    Subscribe                  Main navigation    Pharma    M&A    Regulatory    Financials    Corporate    Legal      Manufacturing    M&A    Outsourcing    Regulatory    Supply Chain    Partnering    Drug Safety      Marketing    Regulatory    DTC Advertising    Digital and Social Media    Data and Analytics    Launches      Pharma Asia    M&A    R&D    Regulatory    Sales and Marketing    Financials    Manufacturing      Animal Health    R&D    M&A    Regulatory    Veterinarian    Financials    Vaccines      Drug Delivery    R&D    Regulatory    Partnering      Vaccines    Deals    Infectious Diseases    R&D    Regulatory        Main navigation - Mobile    Pharma    M&A    Regulatory    Financials    Corporate    Legal      Manufacturing    M&A    Outsourcing    Regulatory    Supply Chain    Partnering    Drug Safety      Marketing    Regulatory    DTC Advertising    Digital and Social Media    Data and Analytics    Launches      Pharma Asia    M&A    R&D    Regulatory    Sales and Marketing    Financials    Manufacturing      Animal Health    R&D    M&A    Regulatory    Veterinarian    Financials    Vaccines      Drug Delivery    R&D    Regulatory    Partnering      Vaccines    Deals    Infectious Diseases    R&D    Regulatory                    Pharma          NICE backs 'less-effective' Otezla to give psoriatic arthritis patients a pill option         by Eric Sagonowsky | Oct 11, 2016 11:07am                        Celgene\\xe2\\x80\\x99s Otezla is picking up steam in the U.K. Shortly after winning NICE support in severe psoriasis, the immunology med now boasts the cost watchdog\\xe2\\x80\\x99s initial\\xc2\\xa0backing in psoriatic arthritis.  The agency's blessing follows a previous\\xc2\\xa0rejection, and two things made all the difference: The\\xc2\\xa0fact that it's a pill among a sea of injectable treatments, and the discount Celgene offered to change NICE's mind. The latest draft is up for review at a meeting in early November.  Otezla, at a list price of \\xc2\\xa3550\\xc2\\xa0for a 28-day pack, is \\xe2\\x80\\x9ca less effective treatment\\xe2\\x80\\x9d than existing meds, NICE said in its guidance , but can provide a welcome alternative to its rival\\xc2\\xa0injections. The institute\\xe2\\x80\\x99s experts felt that \\xe2\\x80\\x9csome patients may be willing to accept a certain level of reduced effectiveness\\xe2\\x80\\x9d to be able to take an oral medication for psoriatic arthritis.  Tuesday\\xe2\\x80\\x99s recommendation marks a reversal of last year's\\xc2\\xa0decision, when NICE said costs for the Celgene med wouldn't justify its benefits in the indication.  In the latest guidance, NICE said its committee \\xe2\\x80\\x9cagreed that apremilast could improve patient choice while also offering the opportunity of cost savings for the NHS \\xe2\\x80\\xa6 . It concluded that apremilast could be recommended as a cost-effective use of NHS resources.\\xe2\\x80\\x9d  The recommendation comes after NICE\\xe2\\x80\\x99s August decision to recommend Celgene\\xe2\\x80\\x99s med in severe psoriasis. That was another turnabout from a ruling last year, and again a reversal contingent on a discount.  While NICE decisions directly affect patients in the U.K., other countries use the agency\\xe2\\x80\\x99s assessments to shape their own coverage, giving added gravity to judgments by the U.K. agency.  Outside of England, Otezla has run into hurdles in Germany, whose cost regulators have also cast doubts on its cost effectiveness.  But the decision\\xc2\\xa0will likely provide a boost for an anti-inflammatory med that competes with some of the world\\xe2\\x80\\x99s heavyweights. In a push for peak sales in the blockbuster zone, Celgene\\xe2\\x80\\x99s Otezla is going up against AbbVie\\xe2\\x80\\x99s Humira, Amgen\\xe2\\x80\\x99s Enbrel,\\xc2\\xa0and Merck & Co. and Johnson & Johnson\\xe2\\x80\\x99s Remicade  Next-gen entrants Cosentyx from Novartis and Taltz from Eli Lilly have also joined the fray in the last year, and biosimilar versions of the older meds are either on their way or, in the U.K., already taking a bite out of domestic brand sales. Merck's Remicade sales have suffered more than expected since a biosim hit that market.  Analysts expect Otezla to hit $1.3 billion by 2018 sales, but Celgene is shooting for $2 billion in peak sales. As part of the effort, the New Jersey-based Big Biotech has kicked off TV and print ad campaigns.  Related Articles: Celgene discount offer spurs NICE to a turnabout on psoriasis pill Otezla Hot summer ad wars: Celgene launches Otezla DTC into crowded psoriasis drug market Celgene hits speed bump for Otezla in U.K. with NICE rejection Celgene's next-gen psoriasis drug dissed by German cost watchdog Celgene thinks its Otezla pill will be easy for the market to swallow    Read more on   drug sales , Celgene , Otezla , Novartis , Cosentyx , AbbVie , Humira , Amgen , Enbrel , Eli Lilly , Taltz , Pfizer                                           Popular Content   Lilly to cut 3,500 jobs, take a $1.2B hit as it aims for $500M in savings Sep 07, 2017  After Keytruda deaths, FDA hits pause on Bristol-Myers Squibb's Opdivo myeloma trials Sep 07, 2017  Survival win has Bristol-Myers' Opdivo-Yervoy combo looking better as first-line kidney cancer treatment Sep 07, 2017  Senator\\xe2\\x80\\x99s report documents deceit by former employees of embattled Insys Sep 07, 2017  Novo to pay nearly $60M to settle Victoza marketing suits with DOJ, whistleblowers Sep 06, 2017     About the Author        Eric Sagonowsky  Associate Editor  esagonowsky@fiercemarkets.com                                   \\xe2\\x80\\x8b   Home  Subscribe  Manage Newsletter Subscriptions  Advertise  RSS  Privacy  About Us  Contact    \\xc2\\xa9 2017 Questex LLC. All rights reserved.  275 Grove Street, Suite 2-130 Newton, MA 02466  Reproduction in whole or part is prohibited.                        \"\n",
      "\n",
      "\n",
      " b'    Skip to main content                                    Twitter  LinkedIn      Search           Top Menu    DDF 2017    FierceBiotech    Jobs    Resources    Events    Subscribe                  Main navigation    Pharma    M&A    Regulatory    Financials    Corporate    Legal      Manufacturing    M&A    Outsourcing    Regulatory    Supply Chain    Partnering    Drug Safety      Marketing    Regulatory    DTC Advertising    Digital and Social Media    Data and Analytics    Launches      Pharma Asia    M&A    R&D    Regulatory    Sales and Marketing    Financials    Manufacturing      Animal Health    R&D    M&A    Regulatory    Veterinarian    Financials    Vaccines      Drug Delivery    R&D    Regulatory    Partnering      Vaccines    Deals    Infectious Diseases    R&D    Regulatory        Main navigation - Mobile    Pharma    M&A    Regulatory    Financials    Corporate    Legal      Manufacturing    M&A    Outsourcing    Regulatory    Supply Chain    Partnering    Drug Safety      Marketing    Regulatory    DTC Advertising    Digital and Social Media    Data and Analytics    Launches      Pharma Asia    M&A    R&D    Regulatory    Sales and Marketing    Financials    Manufacturing      Animal Health    R&D    M&A    Regulatory    Veterinarian    Financials    Vaccines      Drug Delivery    R&D    Regulatory    Partnering      Vaccines    Deals    Infectious Diseases    R&D    Regulatory                    Pharma          Mylan takes on punching-bag role again as Clinton aims to shame \\'bad actors\\'         by Tracy Staton | Oct 3, 2016 11:51am                        Hillary Clinton is now taking a different tack against pharma. In a speech planned for Monday, Clinton will call out EpiPen maker Mylan as a \\xe2\\x80\\x9cbad actor\\xe2\\x80\\x9d for its huge price hikes, and propose new government measures to encourage competition and break monopoly access to markets.  The Mylan reference is just one of several in Clinton\\xe2\\x80\\x99s speech, and the drugmaker is the only pharma to be criticized by name, according to campaign  sources cited by the Wall Street Journal .  It\\'s unclear whether Clinton\\'s shaming of Mylan as a \"bad corporate actor\" will come along with any new proposals targeted directly at pharma, rather than more general antitrust and accountability measures.\\xc2\\xa0But zeroing in on Mylan\\xe2\\x80\\x99s price increases--and suggesting a government push for action--adds to Clinton\\xe2\\x80\\x99s drumbeat of drug-pricing proposals\\xc2\\xa0that could crimp the pharma industry\\xe2\\x80\\x99s activities. If enacted, that is, which is a big If, analysts continue to believe.  A campaign official told the WSJ that the presidential candidate will Monday \\xe2\\x80\\x9ccondemn an in-it-for-yourself approach that celebrates the abuse of workers and consumers as \\xe2\\x80\\x98good business.\\xe2\\x80\\x99\\xe2\\x80\\x9d  During the EpiPen controversy that\\xe2\\x80\\x99s been unfolding since August, Mylan has defended its price increases as necessary to fund R&D, awareness campaigns and lobbying to increase access to the lifesaving emergency anaphylaxis treatment. It has blamed pharmacy benefits managers for pushing big rebates onto the company, encouraging price increases in the process--a banner that other drugmakers, and at least one congressman,\\xc2\\xa0have taken up. Rep. Earl \"Buddy\" Carter, a Republican from Georgia and the only pharmacist\\xc2\\xa0in Congress, penned a column for The Hill last week calling PBMs \"the man behind the curtain\" in drug pricing.    . @RepBuddyCarter : Nobody knows where the $$ goes because there is no transparency. That\\'s the problem. #EpiPen  pic.twitter.com/9O144arXCS \\xe2\\x80\\x94 Oversight Committee (@GOPoversight) September 21, 2016   Attempting to share the public criticism with PBMs and other payers may help pharma shed light on the opaque U.S. drug-pricing system, which Mylan CEO Heather Bresch called \\xe2\\x80\\x9cbroken\\xe2\\x80\\x9d and others deem \\xe2\\x80\\x9cbyzantine\\xe2\\x80\\x9d--and certainly qualifies as unnecessarily complicated.  Meanwhile, however, Clinton continues to tout her proposals for addressing drug prices. Monday\\xe2\\x80\\x99s strike at Mylan will come along with proposals for fostering competition in the marketplace. In the pharma world, that would include Clinton\\xe2\\x80\\x99s previous proposal to streamline approval of biosimilar and generic meds--and could extend further, depending upon the specifics of the proposals she\\xe2\\x80\\x99ll unveil in Monday\\xe2\\x80\\x99s speech.  In a commentary in the New England Journal of Medicine last week, the former secretary of state reiterated her desire to force drugmakers to justify their prices and to allow Medicare to use its buying power to directly negotiate better prices for meds. In a proposal aimed at speeding generics to market, she suggests eliminating \\xe2\\x80\\x9cpay for delay\\xe2\\x80\\x9d patent settlements--something the Federal Trade Commission has been trying to do for years.  She also repeated her most recent suggestion--creating a \\xe2\\x80\\x9cresponse team\\xe2\\x80\\x9d to monitor the market for \\xe2\\x80\\x9cexcessive price spikes\\xe2\\x80\\x9d on long-standing, lifesaving treatments, and penalize the companies involved.  Clinton\\'s latest drug-pricing talk follows a Kaiser Family Foundation survey released last week showing that 77% of Americans think drug prices are unreasonable. The same survey also found \"widespread support\" for measures aimed at holding down prices, including Medicare price negotiation and reimportation of meds sold more cheaply in\\xc2\\xa0Canada.\\xc2\\xa0Respondents also supported requiring drugmakers to release information about how they set their prices and creating an independent board to oversee pricing, KFF said.  Related Articles: Pfizer CEO calls Clinton drug plan \\'very negative for innovation\\' Novartis CEO predicts drug pricing overhaul in U.S. after the election, whoever wins Pharma employees significantly favor Hillary Clinton with contributions Amid still-raging EpiPen scandal, Clinton rolls out plan to fight drug price hikes Hillary\\'s latest drug-price tweet put the fear of government action into biopharma stocks    Read more on   drug prices , campaign contributions , Hillary Clinton , Mylan , EpiPen , Heather Bresch                                           Popular Content   Teva lures Lundbeck chief Schultz with $52M package that makes him among pharma\\'s top paid Sep 12, 2017  Alexion plots hundreds of layoffs, HQ move in sweeping corporate revamp Sep 12, 2017  FDA says Tecentriq won\\'t lose its bladder cancer nod despite phase 3 failure, Roche reports Sep 12, 2017  ESMO need-to-know: Keytruda misses head and neck; Tagrisso wins; plus Lilly, BMS and more Sep 11, 2017  Teva makes good on asset-sale vows with $1.1B contraceptive sale Sep 11, 2017     About the Author        Tracy Staton  Editor-in-Chief  tracy@fiercemarkets.com  https://twitter.com/TracyStaton                                  \\xe2\\x80\\x8b   Home  Subscribe  Manage Newsletter Subscriptions  Advertise  RSS  Privacy  About Us  Contact    \\xc2\\xa9 2017 Questex LLC. All rights reserved.  275 Grove Street, Suite 2-130 Newton, MA 02466  Reproduction in whole or part is prohibited.                        '\n",
      "\n",
      "\n",
      " b\"    Skip to main content                                    Twitter  LinkedIn      Search           Top Menu    DDF 2017    FierceBiotech    Jobs    Resources    Events    Subscribe                  Main navigation    Pharma    M&A    Regulatory    Financials    Corporate    Legal      Manufacturing    M&A    Outsourcing    Regulatory    Supply Chain    Partnering    Drug Safety      Marketing    Regulatory    DTC Advertising    Digital and Social Media    Data and Analytics    Launches      Pharma Asia    M&A    R&D    Regulatory    Sales and Marketing    Financials    Manufacturing      Animal Health    R&D    M&A    Regulatory    Veterinarian    Financials    Vaccines      Drug Delivery    R&D    Regulatory    Partnering      Vaccines    Deals    Infectious Diseases    R&D    Regulatory        Main navigation - Mobile    Pharma    M&A    Regulatory    Financials    Corporate    Legal      Manufacturing    M&A    Outsourcing    Regulatory    Supply Chain    Partnering    Drug Safety      Marketing    Regulatory    DTC Advertising    Digital and Social Media    Data and Analytics    Launches      Pharma Asia    M&A    R&D    Regulatory    Sales and Marketing    Financials    Manufacturing      Animal Health    R&D    M&A    Regulatory    Veterinarian    Financials    Vaccines      Drug Delivery    R&D    Regulatory    Partnering      Vaccines    Deals    Infectious Diseases    R&D    Regulatory                    Marketing          Failed Eylea combo trial throws a wrench in Regeneron's expansion effort         by Carly Helfand | Sep 30, 2016 10:36am                        Regeneron is looking for ways to keep star med Eylea growing well into the future--and pacing ahead of the competition. But it looks like a combination with compound rinucumab won\\xe2\\x80\\x99t be one of them.  Friday, the Tarrytown, NY-based drugmaker announced that the tandem failed to outperform solo Eylea at treating wet age-related macular degeneration in a Phase IIb trial. In fact, the duo did worse than Eylea itself, coming up inferior to monotherapy.  While management had \\xe2\\x80\\x9ctempered\\xe2\\x80\\x9d expectations for the pairing, \\xe2\\x80\\x9cthe lack of any benefit relative to Eylea in the combo arms is a surprise,\\xe2\\x80\\x9d Evercore ISI analyst John Scotti wrote in a note to clients. The lack of dose response--both at 1 mg and 3 mg of rinucumab--also raised some eyebrows, he noted.  And that wasn\\xe2\\x80\\x99t all. At the 12-week primary endpoint, the coformulation had produced a higher rate of adverse events--including conjunctival hemorrhage and eye pain--than Eylea had, too.  Eylea isn\\xe2\\x80\\x99t exactly used to failing. The med has racked up indications in macular edema and diabetic retinopathy since winning its original wet AMD nod, cruising to blockbuster status in the meantime. In Q2, it scored $831 million in U.S. sales, keeping numbers in line with Regeneron\\xe2\\x80\\x99s Eylea guidance of 20% to 25% expansion for the year.  And the product has come up big for overseas partner Bayer, too, which last week said it now expects peak sales for the drug to reach at least \\xe2\\x82\\xac2.5 billion--an improvement on the \\xe2\\x82\\xac1.5 billion execs initially forecast.  Now, though, Scotti pointed out, all eyes will be on a different Eylea combo trial--a Phase II study pairing the therapy with nesvacumab, which began earlier this year.  While the failure of the rinucumab Eylea extension \\xe2\\x80\\x9cstrikes a blow to the lifecycle management of Regeneron\\xe2\\x80\\x99s key product, the company still retains one shot on goal,\\xe2\\x80\\x9d with the nesvacumab pairing, Leerink Partners analyst Geoffrey Porges agreed in his own investor note.  - read the release   Related Articles: Bayer outlines \\xe2\\x82\\xac10B new-drug sales target to allay post-Monsanto worries Superstar Eylea does its part in Q2, but Regeneron sales come up short Regeneron ups Eylea forecast after Q1 revenue beat Regeneron CEO, R&D chief's paychecks both top $40M After a big 2015, Regeneron predicts slowing 2016 sales for launch superstar Eylea Eylea follow-up data dulls its edge on Lucentis, endangering gains in key DME patient group    Read more on   Regeneron Pharmaceuticals , Eylea                                           Popular Content   Pfizer puts hemophilia spin on ultrapopular Minecraft to educate young patients Sep 06, 2017  Novo Nordisk's new semaglutide trounces Lilly's scrappy Trulicity in diabetes trial Aug 17, 2017  GlaxoSmithKline GLP-1 Tanzeum meets its end, and it doesn't bode well for Sanofi, AstraZeneca: analyst Jul 31, 2017  Takeda, Johnson & Johnson and more join Clara Health's Boston-based patient empowerment push Sep 06, 2017  'Alexa, help manage my diabetes.' That's what Merck and its contest finalists envision for the Amazon platform Jul 19, 2017     About the Author        Carly Helfand  Senior Editor  chelfand@fiercemarkets.com                                   \\xe2\\x80\\x8b   Home  Subscribe  Manage Newsletter Subscriptions  Advertise  RSS  Privacy  About Us  Contact    \\xc2\\xa9 2017 Questex LLC. All rights reserved.  275 Grove Street, Suite 2-130 Newton, MA 02466  Reproduction in whole or part is prohibited.                        \"\n"
     ]
    }
   ],
   "source": [
    "for text in web_train['text'][:8]:\n",
    "    print(\"\\n\\n\",text)"
   ]
  },
  {
   "cell_type": "code",
   "execution_count": 37,
   "metadata": {},
   "outputs": [],
   "source": [
    "stop_words=set(stopwords.words('english'))\n",
    "\n",
    "def clean_text(text):\n",
    "    #converting to lowercase\n",
    "    text=text.lower()\n",
    "    \n",
    "    #removing links\n",
    "    text=re.sub(r'(https|http)?:\\/\\/(\\w|\\.|\\/|\\?|\\=|\\&|\\%)*\\b','',text)\n",
    "    \n",
    "    #removing text inside()\n",
    "    text=re.sub(r'\\([^)]*\\)','',text)\n",
    "    \n",
    "    #removing text inside\n",
    "    text=re.sub(r'\\{[^)]*\\}','',text)\n",
    "    \n",
    "    #maintaining only alphabets\n",
    "    text=re.sub(\"[^a-zA-Z]\",\" \",text)\n",
    "    \n",
    "    #removing stopwords\n",
    "    tokens=[w for w in text.split() if not w in stop_words]\n",
    "    long_words=[]\n",
    "    for i in tokens:\n",
    "        if len(i)>=4:\n",
    "            long_words.append(i)\n",
    "    return(\" \".join(long_words)).strip()"
   ]
  },
  {
   "cell_type": "code",
   "execution_count": 30,
   "metadata": {},
   "outputs": [],
   "source": [
    "text=web_train['text'][2]\n",
    "clean_text=clean_text(text)"
   ]
  },
  {
   "cell_type": "code",
   "execution_count": 39,
   "metadata": {},
   "outputs": [],
   "source": [
    "# web_train['Cleaned_text']=web_train['text'].apply(lambda x:clean_text(x))"
   ]
  },
  {
   "cell_type": "code",
   "execution_count": 38,
   "metadata": {},
   "outputs": [],
   "source": [
    "cleaned_text=[]\n",
    "for i in web_train['text']:\n",
    "    cleaned_text.append(clean_text(i))    "
   ]
  },
  {
   "cell_type": "code",
   "execution_count": 40,
   "metadata": {},
   "outputs": [
    {
     "data": {
      "text/html": [
       "<div>\n",
       "<style scoped>\n",
       "    .dataframe tbody tr th:only-of-type {\n",
       "        vertical-align: middle;\n",
       "    }\n",
       "\n",
       "    .dataframe tbody tr th {\n",
       "        vertical-align: top;\n",
       "    }\n",
       "\n",
       "    .dataframe thead th {\n",
       "        text-align: right;\n",
       "    }\n",
       "</style>\n",
       "<table border=\"1\" class=\"dataframe\">\n",
       "  <thead>\n",
       "    <tr style=\"text-align: right;\">\n",
       "      <th></th>\n",
       "      <th>Webpage_id</th>\n",
       "      <th>Tag</th>\n",
       "      <th>text</th>\n",
       "    </tr>\n",
       "  </thead>\n",
       "  <tbody>\n",
       "    <tr>\n",
       "      <th>0</th>\n",
       "      <td>1</td>\n",
       "      <td>news</td>\n",
       "      <td>b'    Skip to main content                    ...</td>\n",
       "    </tr>\n",
       "    <tr>\n",
       "      <th>1</th>\n",
       "      <td>2</td>\n",
       "      <td>news</td>\n",
       "      <td>b'    Skip to main content                    ...</td>\n",
       "    </tr>\n",
       "    <tr>\n",
       "      <th>2</th>\n",
       "      <td>3</td>\n",
       "      <td>news</td>\n",
       "      <td>b'    Skip to main content                    ...</td>\n",
       "    </tr>\n",
       "    <tr>\n",
       "      <th>3</th>\n",
       "      <td>4</td>\n",
       "      <td>news</td>\n",
       "      <td>b\"    Skip to main content                    ...</td>\n",
       "    </tr>\n",
       "    <tr>\n",
       "      <th>4</th>\n",
       "      <td>5</td>\n",
       "      <td>news</td>\n",
       "      <td>b\"    Skip to main content                    ...</td>\n",
       "    </tr>\n",
       "    <tr>\n",
       "      <th>...</th>\n",
       "      <td>...</td>\n",
       "      <td>...</td>\n",
       "      <td>...</td>\n",
       "    </tr>\n",
       "    <tr>\n",
       "      <th>53442</th>\n",
       "      <td>79341</td>\n",
       "      <td>profile</td>\n",
       "      <td>b\"                              Contact Us    ...</td>\n",
       "    </tr>\n",
       "    <tr>\n",
       "      <th>53443</th>\n",
       "      <td>79342</td>\n",
       "      <td>profile</td>\n",
       "      <td>b\"                              Contact Us    ...</td>\n",
       "    </tr>\n",
       "    <tr>\n",
       "      <th>53444</th>\n",
       "      <td>79343</td>\n",
       "      <td>profile</td>\n",
       "      <td>b\"                              Contact Us    ...</td>\n",
       "    </tr>\n",
       "    <tr>\n",
       "      <th>53445</th>\n",
       "      <td>79344</td>\n",
       "      <td>profile</td>\n",
       "      <td>b\"                              Contact Us    ...</td>\n",
       "    </tr>\n",
       "    <tr>\n",
       "      <th>53446</th>\n",
       "      <td>79345</td>\n",
       "      <td>profile</td>\n",
       "      <td>b\"                             Contact Us     ...</td>\n",
       "    </tr>\n",
       "  </tbody>\n",
       "</table>\n",
       "<p>53447 rows × 3 columns</p>\n",
       "</div>"
      ],
      "text/plain": [
       "       Webpage_id      Tag                                               text\n",
       "0               1     news  b'    Skip to main content                    ...\n",
       "1               2     news  b'    Skip to main content                    ...\n",
       "2               3     news  b'    Skip to main content                    ...\n",
       "3               4     news  b\"    Skip to main content                    ...\n",
       "4               5     news  b\"    Skip to main content                    ...\n",
       "...           ...      ...                                                ...\n",
       "53442       79341  profile  b\"                              Contact Us    ...\n",
       "53443       79342  profile  b\"                              Contact Us    ...\n",
       "53444       79343  profile  b\"                              Contact Us    ...\n",
       "53445       79344  profile  b\"                              Contact Us    ...\n",
       "53446       79345  profile  b\"                             Contact Us     ...\n",
       "\n",
       "[53447 rows x 3 columns]"
      ]
     },
     "execution_count": 40,
     "metadata": {},
     "output_type": "execute_result"
    }
   ],
   "source": [
    "web_train"
   ]
  },
  {
   "cell_type": "code",
   "execution_count": 42,
   "metadata": {},
   "outputs": [
    {
     "data": {
      "text/html": [
       "<div>\n",
       "<style scoped>\n",
       "    .dataframe tbody tr th:only-of-type {\n",
       "        vertical-align: middle;\n",
       "    }\n",
       "\n",
       "    .dataframe tbody tr th {\n",
       "        vertical-align: top;\n",
       "    }\n",
       "\n",
       "    .dataframe thead th {\n",
       "        text-align: right;\n",
       "    }\n",
       "</style>\n",
       "<table border=\"1\" class=\"dataframe\">\n",
       "  <thead>\n",
       "    <tr style=\"text-align: right;\">\n",
       "      <th></th>\n",
       "      <th>Tag</th>\n",
       "    </tr>\n",
       "  </thead>\n",
       "  <tbody>\n",
       "    <tr>\n",
       "      <th>0</th>\n",
       "      <td>news</td>\n",
       "    </tr>\n",
       "    <tr>\n",
       "      <th>1</th>\n",
       "      <td>news</td>\n",
       "    </tr>\n",
       "    <tr>\n",
       "      <th>2</th>\n",
       "      <td>news</td>\n",
       "    </tr>\n",
       "    <tr>\n",
       "      <th>3</th>\n",
       "      <td>news</td>\n",
       "    </tr>\n",
       "    <tr>\n",
       "      <th>4</th>\n",
       "      <td>news</td>\n",
       "    </tr>\n",
       "    <tr>\n",
       "      <th>...</th>\n",
       "      <td>...</td>\n",
       "    </tr>\n",
       "    <tr>\n",
       "      <th>53442</th>\n",
       "      <td>profile</td>\n",
       "    </tr>\n",
       "    <tr>\n",
       "      <th>53443</th>\n",
       "      <td>profile</td>\n",
       "    </tr>\n",
       "    <tr>\n",
       "      <th>53444</th>\n",
       "      <td>profile</td>\n",
       "    </tr>\n",
       "    <tr>\n",
       "      <th>53445</th>\n",
       "      <td>profile</td>\n",
       "    </tr>\n",
       "    <tr>\n",
       "      <th>53446</th>\n",
       "      <td>profile</td>\n",
       "    </tr>\n",
       "  </tbody>\n",
       "</table>\n",
       "<p>53447 rows × 1 columns</p>\n",
       "</div>"
      ],
      "text/plain": [
       "           Tag\n",
       "0         news\n",
       "1         news\n",
       "2         news\n",
       "3         news\n",
       "4         news\n",
       "...        ...\n",
       "53442  profile\n",
       "53443  profile\n",
       "53444  profile\n",
       "53445  profile\n",
       "53446  profile\n",
       "\n",
       "[53447 rows x 1 columns]"
      ]
     },
     "execution_count": 42,
     "metadata": {},
     "output_type": "execute_result"
    }
   ],
   "source": [
    "#label encoding\n",
    "web_train[['Tag']]"
   ]
  },
  {
   "cell_type": "code",
   "execution_count": 45,
   "metadata": {},
   "outputs": [],
   "source": [
    "from sklearn.preprocessing import LabelEncoder\n",
    "encode=LabelEncoder()\n",
    "y=encode.fit_transform(web_train['Tag'])"
   ]
  },
  {
   "cell_type": "code",
   "execution_count": 46,
   "metadata": {},
   "outputs": [
    {
     "data": {
      "text/plain": [
       "array([4, 4, 4, ..., 6, 6, 6])"
      ]
     },
     "execution_count": 46,
     "metadata": {},
     "output_type": "execute_result"
    }
   ],
   "source": [
    "y"
   ]
  },
  {
   "cell_type": "code",
   "execution_count": 49,
   "metadata": {},
   "outputs": [],
   "source": [
    "#validation split\n",
    "from sklearn.model_selection import train_test_split\n",
    "x_train,x_val,y_train,y_val=train_test_split(cleaned_text,y,test_size=0.3,random_state=42)"
   ]
  },
  {
   "cell_type": "code",
   "execution_count": 61,
   "metadata": {},
   "outputs": [
    {
     "data": {
      "text/plain": [
       "array([[<matplotlib.axes._subplots.AxesSubplot object at 0x000002C0E6DA8E88>]],\n",
       "      dtype=object)"
      ]
     },
     "execution_count": 61,
     "metadata": {},
     "output_type": "execute_result"
    },
    {
     "data": {
      "image/png": "[encoded data removed]",
      "text/plain": [
       "<Figure size 432x288 with 1 Axes>"
      ]
     },
     "metadata": {
      "needs_background": "light"
     },
     "output_type": "display_data"
    }
   ],
   "source": [
    "#padding\n",
    "#finding the length of the words using hist plot\n",
    "#from the histogram we can observe that most of the sequences fall undere rthe lenght of 500\n",
    "#hence max length is 500\n",
    "import matplotlib.pyplot as plt\n",
    "\n",
    "text_word_count=[]\n",
    "for i in cleaned_text:\n",
    "    text_word_count.append(len(i.split()))\n",
    "length_df=pd.DataFrame({'text':text_word_count})\n",
    "\n",
    "length_df.hist(bins=100,range=(0,10000))"
   ]
  },
  {
   "cell_type": "code",
   "execution_count": 62,
   "metadata": {},
   "outputs": [],
   "source": [
    "max_length=500"
   ]
  },
  {
   "cell_type": "code",
   "execution_count": null,
   "metadata": {},
   "outputs": [],
   "source": [
    "#preparing tokenizer\n",
    "\n"
   ]
  }
 ],
 "metadata": {
  "kernelspec": {
   "display_name": "Python 3",
   "language": "python",
   "name": "python3"
  },
  "language_info": {
   "codemirror_mode": {
    "name": "ipython",
    "version": 3
   },
   "file_extension": ".py",
   "mimetype": "text/x-python",
   "name": "python",
   "nbconvert_exporter": "python",
   "pygments_lexer": "ipython3",
   "version": "3.7.7"
  }
 },
 "nbformat": 4,
 "nbformat_minor": 4
}
